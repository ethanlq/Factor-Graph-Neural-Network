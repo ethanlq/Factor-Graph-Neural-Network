{
 "cells": [
  {
   "cell_type": "code",
   "execution_count": 6,
   "metadata": {},
   "outputs": [],
   "source": [
    "import os\n",
    "import torch\n",
    "import numpy as np"
   ]
  },
  {
   "cell_type": "code",
   "execution_count": 2,
   "metadata": {},
   "outputs": [
    {
     "name": "stdout",
     "output_type": "stream",
     "text": [
      "[Errno 2] No such file or directory: '../MNC'\n",
      "/home/kahlua/fgnn/images\n"
     ]
    }
   ],
   "source": [
    "cd ../MNC"
   ]
  },
  {
   "cell_type": "code",
   "execution_count": 4,
   "metadata": {},
   "outputs": [
    {
     "name": "stdout",
     "output_type": "stream",
     "text": [
      "/home/kahlua/MNC\n"
     ]
    }
   ],
   "source": [
    "cd ../../MNC"
   ]
  },
  {
   "cell_type": "code",
   "execution_count": 5,
   "metadata": {},
   "outputs": [],
   "source": [
    "mv *.pt ../fgnn\n"
   ]
  },
  {
   "cell_type": "code",
   "execution_count": 6,
   "metadata": {},
   "outputs": [
    {
     "name": "stdout",
     "output_type": "stream",
     "text": [
      "/home/kahlua/fgnn\n"
     ]
    }
   ],
   "source": [
    "cd ../fgnn"
   ]
  },
  {
   "cell_type": "code",
   "execution_count": 7,
   "metadata": {},
   "outputs": [
    {
     "name": "stdout",
     "output_type": "stream",
     "text": [
      "mv: cannot stat 'vaild.pt': No such file or directory\n"
     ]
    }
   ],
   "source": [
    "mv vaild.pt err.pt ldpc_data"
   ]
  },
  {
   "cell_type": "code",
   "execution_count": 8,
   "metadata": {},
   "outputs": [
    {
     "name": "stdout",
     "output_type": "stream",
     "text": [
      "ldpc_virtual.pt  ldpc_virtual_t.pt  valid.pt\n"
     ]
    }
   ],
   "source": [
    "ls *.pt"
   ]
  },
  {
   "cell_type": "code",
   "execution_count": 9,
   "metadata": {},
   "outputs": [],
   "source": [
    "mv valid.pt ldpc_data"
   ]
  },
  {
   "cell_type": "code",
   "execution_count": 10,
   "metadata": {},
   "outputs": [
    {
     "name": "stdout",
     "output_type": "stream",
     "text": [
      "/home/kahlua/fgnn/ldpc_data\n"
     ]
    }
   ],
   "source": [
    "cd ldpc_data"
   ]
  },
  {
   "cell_type": "code",
   "execution_count": 12,
   "metadata": {},
   "outputs": [
    {
     "name": "stdout",
     "output_type": "stream",
     "text": [
      "/home/kahlua/fgnn\n"
     ]
    }
   ],
   "source": [
    "cd .."
   ]
  },
  {
   "cell_type": "code",
   "execution_count": 13,
   "metadata": {},
   "outputs": [
    {
     "name": "stdout",
     "output_type": "stream",
     "text": [
      "\u001b[0m\u001b[01;34mtrain_syn_hop_factor_mp_nn_factor_at_2020-05-02_04:35:41\u001b[0m/\n"
     ]
    }
   ],
   "source": [
    "ls model_ldpc/"
   ]
  },
  {
   "cell_type": "code",
   "execution_count": 20,
   "metadata": {},
   "outputs": [
    {
     "name": "stdout",
     "output_type": "stream",
     "text": [
      "\u001b[0m\u001b[01;34mtrain_syn_hop_factor_mp_nn_factor_at_2020-05-02_04:35:41\u001b[0m/\n",
      "\u001b[01;34mtrain_syn_hop_factor_mp_nn_factor_at_2020-05-02_07:01:56\u001b[0m/\n",
      "\u001b[01;34mtrain_syn_hop_factor_mp_nn_factor_at_2020-05-02_07:03:43\u001b[0m/\n",
      "\u001b[01;34mtrain_syn_hop_factor_mp_nn_factor_at_2020-05-02_07:07:38\u001b[0m/\n",
      "\u001b[01;34mtrain_syn_hop_factor_mp_nn_factor_at_2020-05-02_07:11:00\u001b[0m/\n",
      "\u001b[01;34mtrain_syn_hop_factor_mp_nn_factor_at_2020-05-02_07:13:06\u001b[0m/\n",
      "\u001b[01;34mtrain_syn_hop_factor_mp_nn_factor_at_2020-05-02_07:15:39\u001b[0m/\n",
      "\u001b[01;34mtrain_syn_hop_factor_mp_nn_factor_at_2020-05-02_07:35:37\u001b[0m/\n",
      "\u001b[01;34mtrain_syn_hop_factor_mp_nn_factor_at_2020-05-02_07:41:39\u001b[0m/\n"
     ]
    }
   ],
   "source": [
    "ls model_ldpc/"
   ]
  },
  {
   "cell_type": "code",
   "execution_count": 21,
   "metadata": {},
   "outputs": [
    {
     "data": {
      "text/plain": [
       "'/home/kahlua/fgnn'"
      ]
     },
     "execution_count": 21,
     "metadata": {},
     "output_type": "execute_result"
    }
   ],
   "source": [
    "pwd"
   ]
  },
  {
   "cell_type": "code",
   "execution_count": 22,
   "metadata": {},
   "outputs": [
    {
     "name": "stdout",
     "output_type": "stream",
     "text": [
      "/home/kahlua/fgnn/logs\n"
     ]
    }
   ],
   "source": [
    "cd logs"
   ]
  },
  {
   "cell_type": "code",
   "execution_count": 24,
   "metadata": {},
   "outputs": [],
   "source": [
    "files = os.listdir('.')"
   ]
  },
  {
   "cell_type": "code",
   "execution_count": 27,
   "metadata": {
    "collapsed": true,
    "jupyter": {
     "outputs_hidden": true
    }
   },
   "outputs": [
    {
     "name": "stdout",
     "output_type": "stream",
     "text": [
      "6601\n",
      "6691\n",
      "7369\n",
      "6714\n",
      "0\n",
      "11403\n",
      "6593\n",
      "12022\n",
      "6704\n",
      "6691\n",
      "6790\n",
      "6691\n",
      "11403\n",
      "0\n",
      "6691\n",
      "11561\n",
      "8034\n",
      "6691\n",
      "6695\n",
      "6790\n",
      "228380\n",
      "11394\n",
      "70556\n",
      "6691\n",
      "6729\n",
      "7482\n",
      "6691\n",
      "6578\n",
      "6869\n",
      "6699\n",
      "6691\n",
      "8045\n",
      "6691\n",
      "11394\n",
      "6691\n",
      "26065\n",
      "6704\n",
      "6786\n",
      "11403\n",
      "6601\n",
      "6784\n",
      "11392\n",
      "6790\n",
      "6580\n",
      "6707\n",
      "6704\n",
      "6601\n"
     ]
    }
   ],
   "source": [
    "for file in files:\n",
    "    size = os.path.getsize(file)\n",
    "    print(size)"
   ]
  },
  {
   "cell_type": "code",
   "execution_count": 2,
   "metadata": {},
   "outputs": [
    {
     "name": "stdout",
     "output_type": "stream",
     "text": [
      "/home/kahlua/MNC\n"
     ]
    }
   ],
   "source": [
    "cd ~/MNC"
   ]
  },
  {
   "cell_type": "code",
   "execution_count": 3,
   "metadata": {},
   "outputs": [
    {
     "name": "stdout",
     "output_type": "stream",
     "text": [
      "err.pt  valid.pt\n"
     ]
    }
   ],
   "source": [
    "ls *.pt"
   ]
  },
  {
   "cell_type": "code",
   "execution_count": 7,
   "metadata": {},
   "outputs": [],
   "source": [
    "data = torch.load('valid.pt')"
   ]
  },
  {
   "cell_type": "code",
   "execution_count": 8,
   "metadata": {},
   "outputs": [
    {
     "data": {
      "text/plain": [
       "dict_keys(['node_feature', 'hop_feature', 'y', 'sigma_b'])"
      ]
     },
     "execution_count": 8,
     "metadata": {},
     "output_type": "execute_result"
    }
   ],
   "source": [
    "data.keys()"
   ]
  },
  {
   "cell_type": "code",
   "execution_count": 9,
   "metadata": {},
   "outputs": [
    {
     "data": {
      "text/plain": [
       "tensor([4, 3, 4, 5, 2, 4, 4, 3, 0, 2, 3, 4, 0, 4, 3, 2, 2, 0, 5, 4, 0, 5, 3, 5,\n",
       "        3, 0, 4, 5, 4, 3, 1, 4, 5, 5, 2, 5, 5, 2, 3, 1, 0, 0, 0, 0, 5, 2, 3, 3,\n",
       "        4, 0, 3, 0, 1, 4, 5, 3, 1, 1, 3, 1, 5, 3, 1, 1, 2, 4, 2, 1, 2, 3, 0, 4,\n",
       "        0, 1, 3, 0, 5, 4, 0, 2, 0, 2, 5, 4, 5, 3, 1, 3, 1, 3, 3, 0, 3, 3, 2, 0,\n",
       "        5, 4, 4, 0, 4, 5, 0, 1, 2, 1, 2, 2, 0, 5, 5, 5, 0, 2, 0, 5, 2, 2, 1, 3,\n",
       "        0, 4, 3, 0, 3, 5, 0, 0, 5, 3, 2, 4, 2, 5, 3, 2, 5, 4, 5, 0, 4, 0, 2, 2,\n",
       "        1, 2, 2, 1, 4, 4, 0, 5, 2, 2, 5, 3, 0, 5, 3, 2, 2, 0, 3, 5, 3, 0, 2, 1,\n",
       "        0, 4, 0, 4, 4, 2, 4, 5, 2, 0, 5, 0, 0, 2, 2, 0, 2, 0, 2, 4, 5, 0, 0, 3,\n",
       "        1, 4, 2, 1, 5, 0, 2, 0, 0, 2, 1, 3, 3, 0, 1, 0, 1, 3, 5, 2, 0, 2, 3, 1,\n",
       "        4, 4, 4, 5, 5, 2, 0, 4, 4, 1, 2, 0, 2, 3, 1, 5, 0, 3, 5, 0, 3, 1, 5, 5,\n",
       "        4, 3, 2, 4, 3, 2, 3, 5, 4, 3, 4, 4, 0, 1, 3, 0, 2, 5, 1, 1, 4, 1, 2, 4,\n",
       "        2, 2, 4, 4, 3, 1, 0, 5, 4, 0, 1, 5, 5, 1, 3, 2, 3, 4, 0, 1, 3, 1, 1, 4,\n",
       "        4, 5, 4, 4, 2, 2, 1, 3, 3, 2, 2, 0, 5, 2, 3, 3, 5, 0, 5, 4, 0, 2, 2, 0,\n",
       "        5, 1, 1, 2, 5, 2, 4, 1, 1, 2, 3, 0, 2, 0, 3, 4, 1, 2, 1, 3, 3, 0, 2, 4,\n",
       "        0, 3, 0, 5, 4, 5, 5, 0, 4, 4, 1, 5, 1, 0, 2, 1, 0, 1, 4, 2, 5, 5, 0, 0,\n",
       "        5, 3, 3, 4, 0, 3, 1, 4, 3, 3, 5, 0, 3, 3, 2, 3, 2, 0, 5, 4, 5, 4, 5, 0,\n",
       "        2, 4, 4, 5, 1, 0, 2, 4, 0, 1, 0, 0, 2, 4, 4, 4, 3, 1, 5, 4, 0, 4, 5, 0,\n",
       "        2, 3, 0, 0, 0, 5, 3, 2, 2, 4, 5, 5, 5, 2, 0, 3, 4, 1, 5, 2, 4, 2, 5, 5,\n",
       "        5, 0, 3, 2, 4, 4, 0, 4, 3, 4, 2, 4, 5, 1, 5, 1, 0, 0, 1, 0, 2, 0, 0, 4,\n",
       "        3, 0, 5, 0, 4, 2, 5, 4, 0, 4, 4, 4, 1, 3, 3, 3, 2, 0, 2, 0, 1, 2, 2, 5,\n",
       "        4, 3, 5, 4, 3, 5, 3, 3, 3, 1, 1, 5, 3, 4, 1, 5, 5, 5, 0, 5])"
      ]
     },
     "execution_count": 9,
     "metadata": {},
     "output_type": "execute_result"
    }
   ],
   "source": [
    "data['sigma_b']"
   ]
  },
  {
   "cell_type": "code",
   "execution_count": 26,
   "metadata": {},
   "outputs": [],
   "source": [
    "node_feature = data['node_feature']"
   ]
  },
  {
   "cell_type": "code",
   "execution_count": 30,
   "metadata": {},
   "outputs": [],
   "source": [
    "cur_SNR = node_feature[:,1,0,0]"
   ]
  },
  {
   "cell_type": "code",
   "execution_count": 31,
   "metadata": {},
   "outputs": [],
   "source": [
    "sigma_b = data['sigma_b']"
   ]
  },
  {
   "cell_type": "code",
   "execution_count": 34,
   "metadata": {},
   "outputs": [],
   "source": [
    "indice = (sigma_b == 0)"
   ]
  },
  {
   "cell_type": "code",
   "execution_count": 36,
   "metadata": {},
   "outputs": [],
   "source": [
    "indice2 = (abs(cur_SNR-1.2589)<1e-3)"
   ]
  },
  {
   "cell_type": "code",
   "execution_count": 41,
   "metadata": {},
   "outputs": [
    {
     "data": {
      "text/plain": [
       "tensor([False, False, False, False, False, False, False, False, False, False,\n",
       "        False, False, False, False, False, False, False, False, False, False,\n",
       "        False, False, False, False, False, False, False, False, False, False,\n",
       "        False, False, False, False, False, False, False, False, False, False,\n",
       "        False, False, False, False, False, False, False, False, False, False,\n",
       "        False, False, False, False, False, False, False, False, False, False,\n",
       "        False, False, False, False, False, False, False, False, False, False,\n",
       "        False, False, False, False, False, False, False, False, False, False,\n",
       "        False, False, False, False, False, False, False, False, False, False,\n",
       "        False, False, False, False, False, False, False, False, False, False,\n",
       "        False, False,  True, False, False, False, False, False,  True, False,\n",
       "        False, False,  True, False,  True, False, False, False, False, False,\n",
       "         True, False, False,  True, False, False,  True,  True, False, False,\n",
       "        False, False, False, False, False, False, False, False, False,  True,\n",
       "        False,  True, False, False, False, False, False, False, False, False,\n",
       "         True, False, False, False, False, False,  True, False, False, False,\n",
       "        False,  True, False, False, False,  True, False, False,  True, False,\n",
       "         True, False, False, False, False, False, False,  True, False,  True,\n",
       "         True, False, False,  True, False,  True, False, False, False,  True,\n",
       "         True, False, False, False, False, False, False,  True, False,  True,\n",
       "        False, False, False, False, False, False, False, False, False, False,\n",
       "        False, False, False, False, False, False, False, False, False, False,\n",
       "        False, False, False, False, False, False, False, False, False, False,\n",
       "        False, False, False, False, False, False, False, False, False, False,\n",
       "        False, False, False, False, False, False, False, False, False, False,\n",
       "        False, False, False, False, False, False, False, False, False, False,\n",
       "        False, False, False, False, False, False, False, False, False, False,\n",
       "        False, False, False, False, False, False, False, False, False, False,\n",
       "        False, False, False, False, False, False, False, False, False, False,\n",
       "        False, False, False, False, False, False, False, False, False, False,\n",
       "        False, False, False, False, False, False, False, False, False, False,\n",
       "        False, False, False, False, False, False, False, False, False, False,\n",
       "        False, False, False, False, False, False, False, False, False, False,\n",
       "        False, False, False, False, False, False, False, False, False, False,\n",
       "        False, False, False, False, False, False, False, False, False, False,\n",
       "        False, False, False, False, False, False, False, False, False, False,\n",
       "        False, False, False, False, False, False, False, False, False, False,\n",
       "        False, False, False, False, False, False, False, False, False, False,\n",
       "        False, False, False, False, False, False, False, False, False, False,\n",
       "        False, False, False, False, False, False, False, False, False, False,\n",
       "        False, False, False, False, False, False, False, False, False, False,\n",
       "        False, False, False, False, False, False, False, False, False, False,\n",
       "        False, False, False, False, False, False, False, False, False, False,\n",
       "        False, False, False, False, False, False, False, False, False, False,\n",
       "        False, False, False, False, False, False, False, False, False, False,\n",
       "        False, False, False, False, False, False, False, False, False, False,\n",
       "        False, False, False, False, False, False, False, False, False, False,\n",
       "        False, False, False, False, False, False, False, False, False, False,\n",
       "        False, False, False, False, False, False, False, False, False, False,\n",
       "        False, False, False, False, False, False, False, False, False, False])"
      ]
     },
     "execution_count": 41,
     "metadata": {},
     "output_type": "execute_result"
    }
   ],
   "source": [
    "indice & indice2"
   ]
  },
  {
   "cell_type": "code",
   "execution_count": 42,
   "metadata": {},
   "outputs": [
    {
     "data": {
      "text/plain": [
       "tensor(98)"
      ]
     },
     "execution_count": 42,
     "metadata": {},
     "output_type": "execute_result"
    }
   ],
   "source": [
    "torch.sum(indice)"
   ]
  },
  {
   "cell_type": "code",
   "execution_count": 45,
   "metadata": {},
   "outputs": [],
   "source": [
    "x = np.random.randn(2,2)\n",
    "y = np.random.randn(2,2)\n"
   ]
  },
  {
   "cell_type": "code",
   "execution_count": 51,
   "metadata": {},
   "outputs": [
    {
     "data": {
      "text/plain": [
       "array([[ 0.91983965,  0.76578617],\n",
       "       [-5.13293056, -1.24277386]])"
      ]
     },
     "execution_count": 51,
     "metadata": {},
     "output_type": "execute_result"
    }
   ],
   "source": [
    "np.divide(x,y)"
   ]
  },
  {
   "cell_type": "code",
   "execution_count": 47,
   "metadata": {},
   "outputs": [
    {
     "data": {
      "text/plain": [
       "array([[-0.9072665 ,  0.90879019],\n",
       "       [-2.67607036, -1.52350057]])"
      ]
     },
     "execution_count": 47,
     "metadata": {},
     "output_type": "execute_result"
    }
   ],
   "source": [
    "x"
   ]
  },
  {
   "cell_type": "code",
   "execution_count": 48,
   "metadata": {},
   "outputs": [
    {
     "data": {
      "text/plain": [
       "array([[-0.98633115,  1.18674145],\n",
       "       [ 0.52135331,  1.2258872 ]])"
      ]
     },
     "execution_count": 48,
     "metadata": {},
     "output_type": "execute_result"
    }
   ],
   "source": [
    "y"
   ]
  },
  {
   "cell_type": "code",
   "execution_count": 3,
   "metadata": {},
   "outputs": [
    {
     "name": "stdout",
     "output_type": "stream",
     "text": [
      "/home/kahlua/fgnn/ldpc_data\n"
     ]
    }
   ],
   "source": [
    "cd ../ldpc_data"
   ]
  },
  {
   "cell_type": "code",
   "execution_count": 7,
   "metadata": {},
   "outputs": [],
   "source": [
    "err_97 = torch.load('err_97.pt')"
   ]
  },
  {
   "cell_type": "code",
   "execution_count": 23,
   "metadata": {},
   "outputs": [
    {
     "data": {
      "text/plain": [
       "array([[0.10729167, 0.15277778, 0.11538462, 0.12390351, 0.13932292,\n",
       "        0.14166667],\n",
       "       [0.01602564, 0.01111111, 0.03958333, 0.04017857, 0.03685897,\n",
       "        0.05729167],\n",
       "       [0.        , 0.        , 0.        , 0.        , 0.        ,\n",
       "        0.        ],\n",
       "       [0.        , 0.        , 0.        , 0.        , 0.        ,\n",
       "        0.        ],\n",
       "       [0.        , 0.        , 0.        , 0.        , 0.        ,\n",
       "        0.        ]])"
      ]
     },
     "execution_count": 23,
     "metadata": {},
     "output_type": "execute_result"
    }
   ],
   "source": [
    "(err_97['err_mean'] / 48)"
   ]
  },
  {
   "cell_type": "code",
   "execution_count": 18,
   "metadata": {},
   "outputs": [
    {
     "name": "stdout",
     "output_type": "stream",
     "text": [
      "err_2.pt   err_97.pt  train_42.pt  valid_2.pt   valid_97.pt\n",
      "err_77.pt  err.pt     train.pt     valid_77.pt  valid.pt\n"
     ]
    }
   ],
   "source": [
    "ls"
   ]
  },
  {
   "cell_type": "code",
   "execution_count": 19,
   "metadata": {},
   "outputs": [],
   "source": [
    "data = torch.load('train_42.pt')"
   ]
  },
  {
   "cell_type": "code",
   "execution_count": 20,
   "metadata": {},
   "outputs": [
    {
     "data": {
      "text/plain": [
       "torch.Size([50000, 9, 48, 1])"
      ]
     },
     "execution_count": 20,
     "metadata": {},
     "output_type": "execute_result"
    }
   ],
   "source": [
    "data['hop_feature'].shape"
   ]
  }
 ],
 "metadata": {
  "kernelspec": {
   "display_name": "Python 3",
   "language": "python",
   "name": "python3"
  },
  "language_info": {
   "codemirror_mode": {
    "name": "ipython",
    "version": 3
   },
   "file_extension": ".py",
   "mimetype": "text/x-python",
   "name": "python",
   "nbconvert_exporter": "python",
   "pygments_lexer": "ipython3",
   "version": "3.6.5"
  }
 },
 "nbformat": 4,
 "nbformat_minor": 4
}
